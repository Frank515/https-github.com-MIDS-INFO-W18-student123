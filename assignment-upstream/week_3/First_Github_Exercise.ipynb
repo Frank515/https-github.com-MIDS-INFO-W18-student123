{
 "cells": [
  {
   "cell_type": "markdown",
   "metadata": {},
   "source": [
    "## GitHub Exercise\n",
    "\n",
    "This is a simple exercise designed to give you practice using GitHub.  The following code defines a string containing a grocery list.  You are to edit the cell to complete the following task: Create a list containing the grocery items, sort the list into alphabetical order, then print it out."
   ]
  },
  {
   "cell_type": "code",
   "execution_count": 50,
   "metadata": {
    "collapsed": false
   },
   "outputs": [
    {
     "name": "stdout",
     "output_type": "stream",
     "text": [
      "['apples', 'beef', 'corn', 'onions', 'parsley', 'potatoes', 'raddish']\n"
     ]
    }
   ],
   "source": [
    "groceries = 'apples corn potatoes parsley raddish onions beef'\n",
    "groceries_list = list(groceries)\n",
    "groceries = ['apples', 'corn', 'potatoes', 'parsley','raddish','onions','beef']\n",
    "groceries.sort()\n",
    "print(groceries)"
   ]
  },
  {
   "cell_type": "code",
   "execution_count": null,
   "metadata": {
    "collapsed": true
   },
   "outputs": [],
   "source": []
  }
 ],
 "metadata": {
  "kernelspec": {
   "display_name": "Python 3",
   "language": "python",
   "name": "python3"
  },
  "language_info": {
   "codemirror_mode": {
    "name": "ipython",
    "version": 3
   },
   "file_extension": ".py",
   "mimetype": "text/x-python",
   "name": "python",
   "nbconvert_exporter": "python",
   "pygments_lexer": "ipython3",
   "version": "3.5.1"
  }
 },
 "nbformat": 4,
 "nbformat_minor": 0
}
