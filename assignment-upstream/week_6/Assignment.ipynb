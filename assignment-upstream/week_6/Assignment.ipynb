{
 "cells": [
  {
   "cell_type": "markdown",
   "metadata": {},
   "source": [
    "# Week 6 Assignment\n",
    "\n",
    "Your task for this week is to write a 500 word reading responses to one of the articles below. YOU MUST READ BOTH ARTICLES. In addition, please list 3 questions that you have from each article and turn them in in a separate text file. These will be turned in on github in `.docx` or similar formats. `.txt` files are fine as well. The assignment is due Monday.\n",
    "\n",
    "The writing response is a free response, so you may write about your reactions. An interesting thing that you saw in it, something that really stuck out to you, etc.\n",
    "\n",
    "## Part 1\n",
    "Article 1: [The PEP 8 Style Guide](https://www.python.org/dev/peps/pep-0008/#overriding-principle). This document is really important for python coders because it sets customs for how people should write their code. Read it all. PLEASE PREPARE QUESTIONS FOR CLASS.\n",
    "\n",
    "## Part 2\n",
    "Article 2: [Write code that is easy to delete, not easy to extend](http://programmingisterrible.com/post/139222674273/write-code-that-is-easy-to-delete-not-easy-to)\n",
    "This article is written for you to take an \"architectural\" perspective towards thinking about writing in large code bases. This shouldn't really apply to the work that you are doing now but should provide some food for thought at the very least. I'd like you to think about his perspective and why he seems to have come to it. **Please don't worry about knowing all the terminology or programs/systems that he refers to.** I want you to extract what he's trying to say about writing code not the intricacies of the low level systems that is referring to."
   ]
  },
  {
   "cell_type": "code",
   "execution_count": null,
   "metadata": {
    "collapsed": true
   },
   "outputs": [],
   "source": []
  }
 ],
 "metadata": {
  "kernelspec": {
   "display_name": "Python 3",
   "language": "python",
   "name": "python3"
  },
  "language_info": {
   "codemirror_mode": {
    "name": "ipython",
    "version": 3
   },
   "file_extension": ".py",
   "mimetype": "text/x-python",
   "name": "python",
   "nbconvert_exporter": "python",
   "pygments_lexer": "ipython3",
   "version": "3.5.1"
  }
 },
 "nbformat": 4,
 "nbformat_minor": 0
}
