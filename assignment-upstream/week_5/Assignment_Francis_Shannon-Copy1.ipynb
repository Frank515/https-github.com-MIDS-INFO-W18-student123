{
 "cells": [
  {
   "cell_type": "markdown",
   "metadata": {},
   "source": [
    "# Function Exercises\n",
    "\n",
    "## Exercise 1\n",
    "Write a function, `sum_digits`, which takes an `int` and returns the sum of its digits.\n",
    "\n",
    "Write another function that \"wraps\" `sum_digits` in that it calls `sum_digits` from within it. Call this function `diff_sum_digits`. Use that function to compute the input number minus the sum of digits of input number.\n",
    "\n",
    "Writer another function that \"wraps\" `diff_sum_digits`. If `diff_sum_digits` returns a result that has more than one digit (either negative or positive) have it replace it with the sum of the digits of the result. Do this repeatedly until the result has just one digit, then display it.\n",
    "\n",
    "Below you'll find an example of what we mean when we say \"wraps\" - this is not a decorator function or anything like that, just a function that calls another function inside of it."
   ]
  },
  {
   "cell_type": "code",
   "execution_count": 3,
   "metadata": {
    "collapsed": false
   },
   "outputs": [
    {
     "name": "stdout",
     "output_type": "stream",
     "text": [
      "Enter a int(number):234\n"
     ]
    }
   ],
   "source": [
    "\n",
    "num = input(\"Enter a int(number):\")\n",
    "def sum_digits():\n",
    "    sum(int(digits) for digit in (num))\n",
    "    print(sum)\n"
   ]
  },
  {
   "cell_type": "code",
   "execution_count": 1,
   "metadata": {
    "collapsed": false
   },
   "outputs": [
    {
     "ename": "IndentationError",
     "evalue": "unexpected indent (<ipython-input-1-63a9ce69708e>, line 2)",
     "output_type": "error",
     "traceback": [
      "\u001b[0;36m  File \u001b[0;32m\"<ipython-input-1-63a9ce69708e>\"\u001b[0;36m, line \u001b[0;32m2\u001b[0m\n\u001b[0;31m    \"Returns the value of the input * -1\"\u001b[0m\n\u001b[0m    ^\u001b[0m\n\u001b[0;31mIndentationError\u001b[0m\u001b[0;31m:\u001b[0m unexpected indent\n"
     ]
    }
   ],
   "source": [
    "# def example_base_func(x):\n",
    "    \"Returns the value of the input * -1\"\n",
    "    return -1 * x\n",
    "\n",
    "def wraps_example_base_func(x):\n",
    "    temp_val = example_base_func(x)\n",
    "    if temp_val < 0:\n",
    "        return \"trivial example\"\n",
    "    \n",
    "print(example_base_func(5))\n",
    "print(wraps_example_base_func(5))"
   ]
  },
  {
   "cell_type": "markdown",
   "metadata": {},
   "source": [
    "## Exercise 2\n",
    "\n",
    "Write a function `is_consonant` that takes a character and returns `True` if it is a consonant.\n",
    "\n",
    "Use your function to create a new function `to_piglatin` that takes a word, moves all starting consonants to the end of the word, then adds *ay* to the end and returns the result. You may expect that the the input will be just one word.\n",
    "\n",
    "*Extra Credit: Have this function check whether or not the input is multiple words and return the whole sentence in pig latin. For this you may assume that a sentence always ends with a period and is always one sentence, never more than one.*"
   ]
  },
  {
   "cell_type": "code",
   "execution_count": 2,
   "metadata": {
    "collapsed": false
   },
   "outputs": [
    {
     "name": "stdout",
     "output_type": "stream",
     "text": [
      "name a letter: k\n"
     ]
    }
   ],
   "source": [
    "letter = str(input(\"name a letter: \"))\n",
    "\n",
    "def is_consonant():\n",
    "    if letter == 'aeiou':\n",
    "        return \"vowel\"\n",
    "    else:\n",
    "        return \"consonant\"\n",
    "        print(\"True\")"
   ]
  },
  {
   "cell_type": "code",
   "execution_count": 2,
   "metadata": {
    "collapsed": false
   },
   "outputs": [
    {
     "ename": "SyntaxError",
     "evalue": "invalid syntax (<ipython-input-2-836993c0c433>, line 4)",
     "output_type": "error",
     "traceback": [
      "\u001b[0;36m  File \u001b[0;32m\"<ipython-input-2-836993c0c433>\"\u001b[0;36m, line \u001b[0;32m4\u001b[0m\n\u001b[0;31m    for name if letter not in 'aeiou':    # select consonants to be removed by offset\u001b[0m\n\u001b[0m              ^\u001b[0m\n\u001b[0;31mSyntaxError\u001b[0m\u001b[0;31m:\u001b[0m invalid syntax\n"
     ]
    }
   ],
   "source": [
    "name = (input(\"Enter name:\"))\n",
    "\n",
    "name = name.split()\n",
    "for name if letter not in 'aeiou':    # select consonants to be removed by offset\n",
    "    name.pop(0)\n",
    "    name.append(letter) # first consonant \"popped\" appended to end of name\n",
    "else:\n",
    "    name.append(ay)   # after first letter consonants removed and moved, add ay\n",
    "    print(name)"
   ]
  },
  {
   "cell_type": "markdown",
   "metadata": {},
   "source": [
    "# Namespace Exercises\n",
    "\n",
    "The following script defines a list of customer orders.  Each item in the list is a tuple containing the name of the item, the number requested, and the price per item.\n",
    "\n",
    "Fill in just the `process_order` function below without changing any other code. This function should remove one of the elements of the order list and print a nice message about it. Finally, make sure that the final print statement correctly displays the total price for the entire list."
   ]
  },
  {
   "cell_type": "code",
   "execution_count": 8,
   "metadata": {
    "collapsed": false,
    "scrolled": true
   },
   "outputs": [],
   "source": [
    "total = 0\n",
    "def process_order(x_list):\n",
    "    x_list = [(\"oranges\", 4, 3.22),(\"gummy bears\",1,1.99),(\"sour bites\", 3, 2.33), (\"antacid\", 1, 5.33)]\n",
    "    while(len(x_list)>0):\n",
    "        x_list[0:-1]    # assumption is that first order in list will be processed (split). If other offset, declare that one\n",
    "        print(x_list)\n",
    "        sum(x_list,[1,-1])==float(total) # add floats remaining in orders not processed\n",
    "    if (len(x_list <= 0)):\n",
    "        sum(x_list,[1,-1])== float(total)\n",
    "    print(\"total price: \", total)"
   ]
  },
  {
   "cell_type": "markdown",
   "metadata": {},
   "source": [
    "# Functions as Objects\n",
    "\n",
    "The following code defines a list of names and also contains a header for the function `best`.  This function should take two arguments: a function, `score`, and a list of strings, `names`.  Fill in the function so that it applies the `score` function to each string in `names` and returns the one with the highest score. If there are ties in the list, your function should return the first item with the maximum score."
   ]
  },
  {
   "cell_type": "code",
   "execution_count": 2,
   "metadata": {
    "collapsed": false,
    "scrolled": true
   },
   "outputs": [],
   "source": [
    "def best(score, names):\n",
    "    score = ['100', '92','72', '60', '55', '82', '88']\n",
    "    names = [\"Ben\", \"April\", \"Zaber\", \"Alexis\", \"McJagger\", \"J.J.\", \"Madonna\"]\n",
    "    for score, names in zip(scores, names):\n",
    "        print(score, \": name\", name)"
   ]
  },
  {
   "cell_type": "markdown",
   "metadata": {},
   "source": [
    "- Next, define a function, `number_of_vowels`, that returns the number of vowels in a string.  Use it with your `best` function to find the name in `names` with the most vowels.\n",
    "- Next, pass a `lambda` function into your `best` function to find the name in `names` with the highest number of a's."
   ]
  },
  {
   "cell_type": "markdown",
   "metadata": {},
   "source": [
    "# Exceptions Exercises\n",
    "\n",
    "## Exercise 1\n",
    "Refactor this code that attempts to compute a reciprocal so that it keeps prompting the user for a number repeatedly until the user successfully enters a valid number.  If the user enters 0, the program should print that zero does not have a reciprocal, then terminate."
   ]
  },
  {
   "cell_type": "code",
   "execution_count": null,
   "metadata": {
    "collapsed": false,
    "scrolled": true
   },
   "outputs": [],
   "source": [
    "try:\n",
    "    x = float(input(\"Enter a number: \"))\n",
    "    print(\"The reciprocal of your number is\", 1/x)\n",
    "except ValueError:\n",
    "    print(\"You did not enter a valid number.\")\n",
    "except ZeroDivisionError:\n",
    "    print(\"Zero does not have a reciprocal\")\n",
    "except:\n",
    "    print(\"something else went wrong.\")"
   ]
  },
  {
   "cell_type": "markdown",
   "metadata": {},
   "source": [
    "## Exercise 2\n",
    "\n",
    "Write a function that takes a list of grades and a corresponding list of percentages and returns the weighted average of the grades.  Your function should raise an exception if a percentage is less than 0 or greater than 100, and a different exception if the percentages do not add to 100.\n",
    "\n",
    "Run your function on `grades1` with `weights1` and `grades2` with `weights2`, defined below.  Catch the errors generated in each case and print a useful message for the user."
   ]
  },
  {
   "cell_type": "code",
   "execution_count": null,
   "metadata": {
    "collapsed": true,
    "scrolled": true
   },
   "outputs": [],
   "source": [
    "grades1 = [88,99,100,70]\n",
    "weights1 = [30, 30, 30, 5]\n",
    "\n",
    "grades2 = [78, 75, 80, 99]\n",
    "weights2 = [110, 10, -20]"
   ]
  }
 ],
 "metadata": {
  "kernelspec": {
   "display_name": "Python 3",
   "language": "python",
   "name": "python3"
  },
  "language_info": {
   "codemirror_mode": {
    "name": "ipython",
    "version": 3
   },
   "file_extension": ".py",
   "mimetype": "text/x-python",
   "name": "python",
   "nbconvert_exporter": "python",
   "pygments_lexer": "ipython3",
   "version": "3.5.1"
  }
 },
 "nbformat": 4,
 "nbformat_minor": 0
}
