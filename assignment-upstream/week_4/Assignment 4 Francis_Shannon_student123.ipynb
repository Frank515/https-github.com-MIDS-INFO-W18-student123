{
 "cells": [
  {
   "cell_type": "markdown",
   "metadata": {},
   "source": [
    "# Week 4 Assignment\n",
    "Homeworks for this week can be written inside of an ipython notebook file. Questions can be labelled accordingly."
   ]
  },
  {
   "cell_type": "markdown",
   "metadata": {},
   "source": [
    "# For Loops\n",
    "\n",
    "1. Write a script that prompts the user for two words.  Print all the letters that are common to both words, in alphabetical order.\n",
    "```\n",
    "Enter one word: Home\n",
    "Enter another word: meter\n",
    "Letters in common: em\n",
    "```\n",
    "\n",
    "2. You place a pawn at the top left corner of an n-by-n chess board, labeled (0,0).  For each move, you have a choice: move the pawn down a single space, or move the pawn down one space and right one space.  That is, if the pawn is at position (i,j), you can move the pawn to (i+1,j) or (i+1, j+1).\n",
    "\n",
    "Ask the user for the size of a chessboard, n.  Find the number of different paths the pawn could take to reach each position on the chess board.  For example, there are two different paths the pawn can take to reach (2,1): \n",
    "\n",
    "* (0,0) -> (1,0) -> (2,1)\n",
    "* (0,0) -> (1,1) -> (2,1)\n",
    "\n",
    "print the board with the number of ways to reach each square labeled as shown below.\n",
    "\n",
    "Enter a size: 3\n",
    "```\n",
    "1 0 0\n",
    "1 1 0\n",
    "1 2 1\n",
    "```\n",
    "\n",
    "Below is the code to take a convert that board size input."
   ]
  },
  {
   "cell_type": "code",
   "execution_count": 3,
   "metadata": {
    "collapsed": false
   },
   "outputs": [
    {
     "name": "stdout",
     "output_type": "stream",
     "text": [
      "Enter words: roger frank\n",
      "['a', 'e', 'f', 'g', 'k', 'n', 'o', 'r']\n"
     ]
    }
   ],
   "source": [
    "# Common letters problem\n",
    "import string # ascii sequence brought in for alphabetical order\n",
    "words = input(\"Enter two words: \") # enter two words in lowercase\n",
    "\n",
    "letters = [a for a in string.ascii_lowercase if a in words]  \n",
    "print(letters)\n",
    "\n",
    "# for comprehension to parse letters in both words in alphabetical order\n",
    "# could not find expression for common letters that did not use =="
   ]
  },
  {
   "cell_type": "raw",
   "metadata": {
    "collapsed": false
   },
   "source": [
    "n = int(input(\"Enter a board size: \"))"
   ]
  },
  {
   "cell_type": "code",
   "execution_count": null,
   "metadata": {
    "collapsed": true
   },
   "outputs": [],
   "source": []
  },
  {
   "cell_type": "code",
   "execution_count": 8,
   "metadata": {
    "collapsed": false
   },
   "outputs": [
    {
     "name": "stdout",
     "output_type": "stream",
     "text": [
      "Enter a board size: 3\n"
     ]
    },
    {
     "ename": "TypeError",
     "evalue": "can't multiply sequence by non-int of type 'tuple'",
     "output_type": "error",
     "traceback": [
      "\u001b[0;31m---------------------------------------------------------------------------\u001b[0m",
      "\u001b[0;31mTypeError\u001b[0m                                 Traceback (most recent call last)",
      "\u001b[0;32m<ipython-input-8-380044b3fe4e>\u001b[0m in \u001b[0;36m<module>\u001b[0;34m()\u001b[0m\n\u001b[1;32m      5\u001b[0m \u001b[0mi\u001b[0m \u001b[0;34m=\u001b[0m \u001b[0;36m0\u001b[0m\u001b[0;34m\u001b[0m\u001b[0m\n\u001b[1;32m      6\u001b[0m \u001b[0mj\u001b[0m \u001b[0;34m=\u001b[0m \u001b[0;36m0\u001b[0m\u001b[0;34m\u001b[0m\u001b[0m\n\u001b[0;32m----> 7\u001b[0;31m \u001b[0mpaths\u001b[0m \u001b[0;34m=\u001b[0m \u001b[0;34m(\u001b[0m\u001b[0;34m(\u001b[0m\u001b[0mi\u001b[0m\u001b[0;34m+\u001b[0m\u001b[0;36m1\u001b[0m\u001b[0;34m,\u001b[0m \u001b[0mj\u001b[0m\u001b[0;34m)\u001b[0m\u001b[0;34m*\u001b[0m\u001b[0mn\u001b[0m\u001b[0;34m)\u001b[0m \u001b[0;34m+\u001b[0m \u001b[0;34m(\u001b[0m\u001b[0;34m(\u001b[0m\u001b[0mi\u001b[0m\u001b[0;34m,\u001b[0m \u001b[0mj\u001b[0m\u001b[0;34m+\u001b[0m\u001b[0;36m1\u001b[0m\u001b[0;34m)\u001b[0m\u001b[0;34m*\u001b[0m \u001b[0mn\u001b[0m\u001b[0;34m)\u001b[0m\u001b[0;34m\u001b[0m\u001b[0m\n\u001b[0m\u001b[1;32m      8\u001b[0m \u001b[0mprint\u001b[0m\u001b[0;34m(\u001b[0m\u001b[0;34m\"There are\"\u001b[0m\u001b[0;34m,\u001b[0m \u001b[0mpaths\u001b[0m\u001b[0;34m,\u001b[0m \u001b[0;34m\"to reach all squares on board\"\u001b[0m\u001b[0;34m,\u001b[0m \u001b[0mpaths\u001b[0m\u001b[0;34m)\u001b[0m\u001b[0;34m\u001b[0m\u001b[0m\n\u001b[1;32m      9\u001b[0m \u001b[0;34m\u001b[0m\u001b[0m\n",
      "\u001b[0;31mTypeError\u001b[0m: can't multiply sequence by non-int of type 'tuple'"
     ]
    }
   ],
   "source": [
    "#Chess Board Problem\n",
    "n = int(input(\"Enter a board size: \"))\n",
    "#How many paths to reach each position on board with size n\n",
    "n = ()\n",
    "i = 0\n",
    "j = 0\n",
    "paths = ((i+1, j)) + ((i, j+1))\n",
    "print(\"There are\", paths, \"to reach all squares on board\", paths)\n",
    "    "
   ]
  },
  {
   "cell_type": "markdown",
   "metadata": {},
   "source": [
    "# Bisection Search\n",
    "\n",
    "1. Try inputting 0.25 into the bisection search algorithm below and confirm that it doesn't work. Then correct the algorithm so that it works for all positive numbers."
   ]
  },
  {
   "cell_type": "code",
   "execution_count": 5,
   "metadata": {
    "collapsed": false
   },
   "outputs": [
    {
     "name": "stdout",
     "output_type": "stream",
     "text": [
      "enter a number:0.25\n",
      "low = 0.0 high = 0.25\n",
      "low = 0.125 high = 0.25\n",
      "low = 0.1875 high = 0.25\n",
      "low = 0.21875 high = 0.25\n",
      "low = 0.234375 high = 0.25\n",
      "low = 0.2421875 high = 0.25\n",
      "low = 0.24609375 high = 0.25\n",
      "low = 0.248046875 high = 0.25\n",
      "low = 0.2490234375 high = 0.25\n",
      "low = 0.24951171875 high = 0.25\n",
      "low = 0.249755859375 high = 0.25\n",
      "low = 0.2498779296875 high = 0.25\n",
      "low = 0.24993896484375 high = 0.25\n",
      "low = 0.249969482421875 high = 0.25\n",
      "number of guesses = 14\n",
      "0.24999237060546875 is close to square root of 0.25\n"
     ]
    }
   ],
   "source": [
    "## Bisection Search to Find a Square Root\n",
    "\n",
    "x = float(input(\"enter a number:\"))\n",
    "epsilon = 0.00001\n",
    "num_guesses = 0\n",
    "low = 0.0\n",
    "high = x \n",
    "ans = (high + low)/2.0\n",
    "while high - low >= 2 * epsilon:\n",
    "    print(\"low =\",low,\"high =\", high)\n",
    "    num_guesses += 1\n",
    "    if ans ** 2 < x:\n",
    "        low = ans\n",
    "    else:\n",
    "        high = ans\n",
    "    ans = (high + low)/2.0\n",
    "print('number of guesses =', num_guesses)\n",
    "print(ans, 'is close to square root of', x)\n"
   ]
  },
  {
   "cell_type": "markdown",
   "metadata": {},
   "source": [
    "You run the bisection search algorithm to find the square root of x to a precision of epsilon.  Write down a formula for how many loop iterations it takes for the algorithm to complete.  Hint: first suppose that x has the special value $epsilon * 2^n$, where n is an integer."
   ]
  },
  {
   "cell_type": "code",
   "execution_count": null,
   "metadata": {
    "collapsed": true
   },
   "outputs": [],
   "source": []
  },
  {
   "cell_type": "markdown",
   "metadata": {},
   "source": [
    "# Part 3 Bisection Search Part 2\n",
    "\n",
    "1. In your own words, why does the bisection search algorthm for finding square roots work faster on large numbers than the brute force algorithm? Write your answer below.\n",
    "2. In your own words, why does Newton's method for finding square roots outperform both the brute force and the bisection search algorithms? Write your answer below.\n",
    "\n",
    "3. Implement this digit-by-digit algorithm to find the square root of $x$ to a precision of epsilon.\n",
    "  1. Begin with a step of 1 and guess of zero.\n",
    "  2. Increase the guess by step repeatedly as long as doing so would not cause guess$^2$ to exceed $x$.\n",
    "  3. If the step is greater than epsilon, divide the step by 10 and go back to step 2.*In print preview, the three questions are each showing as number 1 (not 1, 2, 3), and these steps are appearing as A, B, C. Please determine how they will appear in final form. \"Step 2\" may need to be changed to \"step C.\"*\n",
    "\n",
    "Notice that once a digit has been found, it is never changed again.  Try using your script to find the square root of 10 to 10 decimal places."
   ]
  },
  {
   "cell_type": "markdown",
   "metadata": {},
   "source": [
    "1. Bisection search algorithm finds square roots for large numbers faster because it sequentially divides a structured population of solutions in half rather than doing a random search for solutions among the entire solution population.\n",
    "2. Newton's method for finding square roots outperforms both brute force and bisection methods because the answer space is bounded by x and x divided by the answer.  This can be expressed as a function in which the function of the answer describes a parabola (smooth line) that intersects the x axis (ans line) at '0' which is where f(ans) = ans**2 - x = 0."
   ]
  },
  {
   "cell_type": "code",
   "execution_count": null,
   "metadata": {
    "collapsed": false
   },
   "outputs": [],
   "source": [
    "x = float(input(\"Enter a number: \"))\n",
    "epsilon = 0.00001\n",
    "num_guesses = 0\n",
    "ans = 1\n",
    "\n",
    "while abs(x/ans - ans) > epsilon:\n",
    "    ans = (x/ans + 2)/2\n",
    "    num_guesses += 1\n",
    "    \n",
    "print(ans, \"is close to square root of\", x)\n",
    "print(\"Number of guesses:\", num_guesses)"
   ]
  },
  {
   "cell_type": "markdown",
   "metadata": {},
   "source": [
    "# Part 4 Comprehensions\n",
    "\n",
    "1. Use a comprehension to make a list of the square numbers below 100 that give a remainder of 1 when divided by 3.\n",
    "2. A string is defined in the code snippet below. Split it into individual words and use a comprehension to make a list of the first letters of each word in the snippet."
   ]
  },
  {
   "cell_type": "code",
   "execution_count": 6,
   "metadata": {
    "collapsed": false
   },
   "outputs": [
    {
     "data": {
      "text/plain": [
       "[1, 4, 16, 25, 49, 64]"
      ]
     },
     "execution_count": 6,
     "metadata": {},
     "output_type": "execute_result"
    }
   ],
   "source": [
    "\n",
    "[ i**2 for i in range(1, 10) if (i**2%3 == 1)]\n"
   ]
  },
  {
   "cell_type": "code",
   "execution_count": 1,
   "metadata": {
    "collapsed": false
   },
   "outputs": [
    {
     "data": {
      "text/plain": [
       "[]"
      ]
     },
     "execution_count": 1,
     "metadata": {},
     "output_type": "execute_result"
    }
   ],
   "source": [
    "\n"
   ]
  },
  {
   "cell_type": "code",
   "execution_count": null,
   "metadata": {
    "collapsed": true
   },
   "outputs": [],
   "source": []
  },
  {
   "cell_type": "markdown",
   "metadata": {},
   "source": [
    "3. A Pythagorean triple is a set (x,y,z), with positive integers x≤y≤z such that x2+y2=z2. Use a comprehension to make a list of all Pythagorean triples with numbers below 25.\n",
    "4. Given a word, provided below, use a comprehension to make a list of all strings that can be formed by deleting exactly one character from the word.\n",
    "\n",
    "`word = \"Welcomed\"`\n",
    "\n",
    "5. Given a word, provided below, use a comprehension to make a list of all strings that can be formed by replacing exactly one vowel in the word with a different vowel.\n",
    "\n",
    "`word = \"Booted\"`"
   ]
  },
  {
   "cell_type": "markdown",
   "metadata": {},
   "source": [
    "# Please submit feedback for any and all homeworks!\n",
    "\n",
    "http://goo.gl/forms/74yCiQTf6k"
   ]
  },
  {
   "cell_type": "code",
   "execution_count": null,
   "metadata": {
    "collapsed": true
   },
   "outputs": [],
   "source": []
  }
 ],
 "metadata": {
  "kernelspec": {
   "display_name": "Python 3",
   "language": "python",
   "name": "python3"
  },
  "language_info": {
   "codemirror_mode": {
    "name": "ipython",
    "version": 3
   },
   "file_extension": ".py",
   "mimetype": "text/x-python",
   "name": "python",
   "nbconvert_exporter": "python",
   "pygments_lexer": "ipython3",
   "version": "3.5.1"
  }
 },
 "nbformat": 4,
 "nbformat_minor": 0
}
