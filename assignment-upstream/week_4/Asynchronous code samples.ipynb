{
 "cells": [
  {
   "cell_type": "code",
   "execution_count": 1,
   "metadata": {
    "collapsed": false
   },
   "outputs": [
    {
     "name": "stdout",
     "output_type": "stream",
     "text": [
      "enter an integer: 6\n",
      "0123456\n",
      "012345\n",
      "01234\n",
      "0123\n",
      "012\n",
      "01\n",
      "0\n"
     ]
    }
   ],
   "source": [
    "# For statements - number pyramid\n",
    "row = int(input(\"enter an integer: \"))\n",
    "\n",
    "for x in range (row, -1, -1):\n",
    "    for j in range(x + 1):\n",
    "        print(j, end=\"\")\n",
    "    print(\"\")"
   ]
  },
  {
   "cell_type": "code",
   "execution_count": 2,
   "metadata": {
    "collapsed": false
   },
   "outputs": [
    {
     "name": "stdout",
     "output_type": "stream",
     "text": [
      "enter your name: frank\n",
      "f\n",
      "r\n",
      "n\n",
      "k\n"
     ]
    }
   ],
   "source": [
    "# For name character string\n",
    "x = input(\"enter your name: \")\n",
    "for char in x:\n",
    "    if char.lower() not in \"aeiou\":\n",
    "        print(char)"
   ]
  },
  {
   "cell_type": "code",
   "execution_count": null,
   "metadata": {
    "collapsed": true
   },
   "outputs": [],
   "source": []
  }
 ],
 "metadata": {
  "kernelspec": {
   "display_name": "Python 3",
   "language": "python",
   "name": "python3"
  },
  "language_info": {
   "codemirror_mode": {
    "name": "ipython",
    "version": 3
   },
   "file_extension": ".py",
   "mimetype": "text/x-python",
   "name": "python",
   "nbconvert_exporter": "python",
   "pygments_lexer": "ipython3",
   "version": "3.5.1"
  }
 },
 "nbformat": 4,
 "nbformat_minor": 0
}
